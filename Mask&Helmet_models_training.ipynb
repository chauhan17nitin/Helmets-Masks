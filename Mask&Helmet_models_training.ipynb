{
  "nbformat": 4,
  "nbformat_minor": 0,
  "metadata": {
    "colab": {
      "name": "Mask&Helmet_models_training.ipynb",
      "provenance": [],
      "collapsed_sections": [],
      "mount_file_id": "1Ax_isCHA2GhPTFc-NP91owtQNGRzgh7O",
      "authorship_tag": "ABX9TyPLHqceKZsZZkk9rILlDPJL",
      "include_colab_link": true
    },
    "kernelspec": {
      "name": "python3",
      "display_name": "Python 3"
    },
    "accelerator": "GPU"
  },
  "cells": [
    {
      "cell_type": "markdown",
      "metadata": {
        "id": "view-in-github",
        "colab_type": "text"
      },
      "source": [
        "<a href=\"https://colab.research.google.com/github/hammer1234567/Helmets-Masks/blob/master/Mask%26Helmet_models_training.ipynb\" target=\"_parent\"><img src=\"https://colab.research.google.com/assets/colab-badge.svg\" alt=\"Open In Colab\"/></a>"
      ]
    },
    {
      "cell_type": "code",
      "metadata": {
        "id": "dzJ9YHhkahEz",
        "colab_type": "code",
        "outputId": "03ed08ad-7481-4ddf-e048-e7a68165d8d8",
        "colab": {
          "base_uri": "https://localhost:8080/",
          "height": 153
        }
      },
      "source": [
        "import os\n",
        "os.chdir('/content/drive/My Drive/google_project/interview_data')\n",
        "!ls"
      ],
      "execution_count": 1,
      "outputs": [
        {
          "output_type": "stream",
          "text": [
            " annotations\t\t\t      model_helmet.h5\n",
            " annotations.xml\t\t      model_helmet.json\n",
            " darknet\t\t\t      model_mask.h5\n",
            " dataset.csv\t\t\t      model_mask.json\n",
            " final\t\t\t\t      MyFile.txt\n",
            "'Integrating_yolo&NN_models.ipynb'    YOLO_Training.ipynb\n",
            " interview_data\t\t\t      Yoo_Data_Generation.ipynb\n",
            "'Mask&Helmet_models_training.ipynb'\n"
          ],
          "name": "stdout"
        }
      ]
    },
    {
      "cell_type": "code",
      "metadata": {
        "id": "NrBOtxn_TxrP",
        "colab_type": "code",
        "outputId": "16e877fc-771f-4cdc-9d59-864e0b61aad3",
        "colab": {
          "base_uri": "https://localhost:8080/",
          "height": 204
        }
      },
      "source": [
        "import pandas as pd\n",
        "data = pd.read_csv('dataset.csv')\n",
        "data.head()"
      ],
      "execution_count": 2,
      "outputs": [
        {
          "output_type": "execute_result",
          "data": {
            "text/html": [
              "<div>\n",
              "<style scoped>\n",
              "    .dataframe tbody tr th:only-of-type {\n",
              "        vertical-align: middle;\n",
              "    }\n",
              "\n",
              "    .dataframe tbody tr th {\n",
              "        vertical-align: top;\n",
              "    }\n",
              "\n",
              "    .dataframe thead th {\n",
              "        text-align: right;\n",
              "    }\n",
              "</style>\n",
              "<table border=\"1\" class=\"dataframe\">\n",
              "  <thead>\n",
              "    <tr style=\"text-align: right;\">\n",
              "      <th></th>\n",
              "      <th>image</th>\n",
              "      <th>mask</th>\n",
              "      <th>helmet</th>\n",
              "    </tr>\n",
              "  </thead>\n",
              "  <tbody>\n",
              "    <tr>\n",
              "      <th>0</th>\n",
              "      <td>final/0/0.jpg</td>\n",
              "      <td>yes</td>\n",
              "      <td>yes</td>\n",
              "    </tr>\n",
              "    <tr>\n",
              "      <th>1</th>\n",
              "      <td>final/0/1.jpg</td>\n",
              "      <td>no</td>\n",
              "      <td>yes</td>\n",
              "    </tr>\n",
              "    <tr>\n",
              "      <th>2</th>\n",
              "      <td>final/1/0.jpg</td>\n",
              "      <td>yes</td>\n",
              "      <td>no</td>\n",
              "    </tr>\n",
              "    <tr>\n",
              "      <th>3</th>\n",
              "      <td>final/2/0.jpg</td>\n",
              "      <td>no</td>\n",
              "      <td>yes</td>\n",
              "    </tr>\n",
              "    <tr>\n",
              "      <th>4</th>\n",
              "      <td>final/2/1.jpg</td>\n",
              "      <td>invisible</td>\n",
              "      <td>no</td>\n",
              "    </tr>\n",
              "  </tbody>\n",
              "</table>\n",
              "</div>"
            ],
            "text/plain": [
              "           image       mask helmet\n",
              "0  final/0/0.jpg        yes    yes\n",
              "1  final/0/1.jpg         no    yes\n",
              "2  final/1/0.jpg        yes     no\n",
              "3  final/2/0.jpg         no    yes\n",
              "4  final/2/1.jpg  invisible     no"
            ]
          },
          "metadata": {
            "tags": []
          },
          "execution_count": 2
        }
      ]
    },
    {
      "cell_type": "markdown",
      "metadata": {
        "id": "nrZLNjvwpGvi",
        "colab_type": "text"
      },
      "source": [
        "# Training model for mask detection on heads detected by yolov3 model\n"
      ]
    },
    {
      "cell_type": "code",
      "metadata": {
        "id": "6-wGjm4gc9dq",
        "colab_type": "code",
        "colab": {}
      },
      "source": [
        "import tensorflow\n",
        "from tensorflow.keras.preprocessing.image import ImageDataGenerator"
      ],
      "execution_count": 0,
      "outputs": []
    },
    {
      "cell_type": "code",
      "metadata": {
        "id": "AxPFu_sKdASM",
        "colab_type": "code",
        "outputId": "92937df3-38f9-493b-b418-acd4d455689b",
        "colab": {
          "base_uri": "https://localhost:8080/",
          "height": 85
        }
      },
      "source": [
        "datagen = ImageDataGenerator(\n",
        "        rescale=1./255,\n",
        "        shear_range=0.2,\n",
        "        zoom_range=0.2,\n",
        "        horizontal_flip=True,\n",
        "        validation_split = 0.2)\n",
        "\n",
        "train_data = datagen.flow_from_dataframe(\n",
        "    dataframe=data,\n",
        "    directory = './',\n",
        "    x_col = 'image',\n",
        "    y_col=\"mask\",\n",
        "    target_size=(64, 64),\n",
        "    batch_size = 32,\n",
        "    shuffle = True,\n",
        "    class_mode = \"categorical\",\n",
        "    subset = 'training'\n",
        ")\n",
        "\n",
        "valid_data = datagen.flow_from_dataframe(\n",
        "    dataframe = data,\n",
        "    directory = './',\n",
        "    x_col = 'image',\n",
        "    y_col = \"mask\",\n",
        "    target_size = (64, 64),\n",
        "    batch_size =32,\n",
        "    shuffle = True,\n",
        "    class_mode = \"categorical\",\n",
        "    subset = 'validation'\n",
        ")"
      ],
      "execution_count": 4,
      "outputs": [
        {
          "output_type": "stream",
          "text": [
            "/usr/local/lib/python3.6/dist-packages/keras_preprocessing/image/dataframe_iterator.py:282: UserWarning: Found 1 invalid image filename(s) in x_col=\"image\". These filename(s) will be ignored.\n",
            "  .format(n_invalid, x_col)\n"
          ],
          "name": "stderr"
        },
        {
          "output_type": "stream",
          "text": [
            "Found 1075 validated image filenames belonging to 4 classes.\n",
            "Found 268 validated image filenames belonging to 4 classes.\n"
          ],
          "name": "stdout"
        }
      ]
    },
    {
      "cell_type": "code",
      "metadata": {
        "id": "v4YEj1iZmxP1",
        "colab_type": "code",
        "colab": {}
      },
      "source": [
        "import tensorflow as tf\n",
        "from tensorflow.compat.v1.layers import MaxPooling2D\n",
        "from tensorflow.keras.applications import VGG16\n",
        "from tensorflow.keras.layers import InputLayer\n",
        "# from keras import layers\n",
        "from tensorflow.keras.models import Sequential\n",
        "from tensorflow.keras.layers import Conv2D, MaxPool2D\n",
        "from tensorflow.keras.layers import Activation, Dropout, Flatten, Dense"
      ],
      "execution_count": 0,
      "outputs": []
    },
    {
      "cell_type": "code",
      "metadata": {
        "id": "QroF9m8RuPzj",
        "colab_type": "code",
        "outputId": "54ef2d30-c6c6-4f02-d17f-dda8efe81e10",
        "colab": {
          "base_uri": "https://localhost:8080/",
          "height": 51
        }
      },
      "source": [
        "vgg16_model = tensorflow.keras.applications.vgg16.VGG16()"
      ],
      "execution_count": 6,
      "outputs": [
        {
          "output_type": "stream",
          "text": [
            "Downloading data from https://storage.googleapis.com/tensorflow/keras-applications/vgg16/vgg16_weights_tf_dim_ordering_tf_kernels.h5\n",
            "553467904/553467096 [==============================] - 6s 0us/step\n"
          ],
          "name": "stdout"
        }
      ]
    },
    {
      "cell_type": "code",
      "metadata": {
        "id": "qTRw0DlBu2B5",
        "colab_type": "code",
        "colab": {}
      },
      "source": [
        "model_mask = Sequential()\n",
        "model_mask.add( InputLayer(input_shape=(64, 64, 3), name='image_input') )"
      ],
      "execution_count": 0,
      "outputs": []
    },
    {
      "cell_type": "code",
      "metadata": {
        "id": "efQRXpxgzGMB",
        "colab_type": "code",
        "outputId": "0081eef2-55d8-402b-b2ec-e9788877c9aa",
        "colab": {
          "base_uri": "https://localhost:8080/",
          "height": 153
        }
      },
      "source": [
        "model_mask.summary()"
      ],
      "execution_count": 8,
      "outputs": [
        {
          "output_type": "stream",
          "text": [
            "Model: \"sequential\"\n",
            "_________________________________________________________________\n",
            "Layer (type)                 Output Shape              Param #   \n",
            "=================================================================\n",
            "Total params: 0\n",
            "Trainable params: 0\n",
            "Non-trainable params: 0\n",
            "_________________________________________________________________\n"
          ],
          "name": "stdout"
        }
      ]
    },
    {
      "cell_type": "code",
      "metadata": {
        "id": "kQqjXAvDwdVM",
        "colab_type": "code",
        "colab": {}
      },
      "source": [
        "for layer in vgg16_model.layers[1:-4]:\n",
        "  model_mask.add(layer)"
      ],
      "execution_count": 0,
      "outputs": []
    },
    {
      "cell_type": "code",
      "metadata": {
        "id": "aAAlzkPqyxAh",
        "colab_type": "code",
        "outputId": "ec327d4d-9841-4315-c6c9-9ca89e305aba",
        "colab": {
          "base_uri": "https://localhost:8080/",
          "height": 765
        }
      },
      "source": [
        "model_mask.summary()"
      ],
      "execution_count": 10,
      "outputs": [
        {
          "output_type": "stream",
          "text": [
            "Model: \"sequential\"\n",
            "_________________________________________________________________\n",
            "Layer (type)                 Output Shape              Param #   \n",
            "=================================================================\n",
            "block1_conv1 (Conv2D)        multiple                  1792      \n",
            "_________________________________________________________________\n",
            "block1_conv2 (Conv2D)        multiple                  36928     \n",
            "_________________________________________________________________\n",
            "block1_pool (MaxPooling2D)   multiple                  0         \n",
            "_________________________________________________________________\n",
            "block2_conv1 (Conv2D)        multiple                  73856     \n",
            "_________________________________________________________________\n",
            "block2_conv2 (Conv2D)        multiple                  147584    \n",
            "_________________________________________________________________\n",
            "block2_pool (MaxPooling2D)   multiple                  0         \n",
            "_________________________________________________________________\n",
            "block3_conv1 (Conv2D)        multiple                  295168    \n",
            "_________________________________________________________________\n",
            "block3_conv2 (Conv2D)        multiple                  590080    \n",
            "_________________________________________________________________\n",
            "block3_conv3 (Conv2D)        multiple                  590080    \n",
            "_________________________________________________________________\n",
            "block3_pool (MaxPooling2D)   multiple                  0         \n",
            "_________________________________________________________________\n",
            "block4_conv1 (Conv2D)        multiple                  1180160   \n",
            "_________________________________________________________________\n",
            "block4_conv2 (Conv2D)        multiple                  2359808   \n",
            "_________________________________________________________________\n",
            "block4_conv3 (Conv2D)        multiple                  2359808   \n",
            "_________________________________________________________________\n",
            "block4_pool (MaxPooling2D)   multiple                  0         \n",
            "_________________________________________________________________\n",
            "block5_conv1 (Conv2D)        multiple                  2359808   \n",
            "_________________________________________________________________\n",
            "block5_conv2 (Conv2D)        multiple                  2359808   \n",
            "_________________________________________________________________\n",
            "block5_conv3 (Conv2D)        multiple                  2359808   \n",
            "_________________________________________________________________\n",
            "block5_pool (MaxPooling2D)   multiple                  0         \n",
            "=================================================================\n",
            "Total params: 14,714,688\n",
            "Trainable params: 14,714,688\n",
            "Non-trainable params: 0\n",
            "_________________________________________________________________\n"
          ],
          "name": "stdout"
        }
      ]
    },
    {
      "cell_type": "code",
      "metadata": {
        "id": "MjGvn-lpz177",
        "colab_type": "code",
        "colab": {}
      },
      "source": [
        "for layer in model_mask.layers:\n",
        "  layer.trainable = False"
      ],
      "execution_count": 0,
      "outputs": []
    },
    {
      "cell_type": "code",
      "metadata": {
        "id": "SA8SkIoVo0KM",
        "colab_type": "code",
        "colab": {}
      },
      "source": [
        "model_mask.add(Conv2D(64, (2, 2), padding='same'))\n",
        "model_mask.add(Activation('relu'))\n",
        "model_mask.add(MaxPool2D(pool_size=(2, 2), strides = (1,1), padding='same'))\n",
        "\n",
        "model_mask.add(Conv2D(64, (2, 2), padding='same'))\n",
        "model_mask.add(Activation('relu'))\n",
        "model_mask.add(MaxPool2D(pool_size=(2, 2), strides = (1,1), padding='same'))"
      ],
      "execution_count": 0,
      "outputs": []
    },
    {
      "cell_type": "code",
      "metadata": {
        "id": "XpznRHgpz6f0",
        "colab_type": "code",
        "colab": {}
      },
      "source": [
        "model_mask.add(Flatten()) "
      ],
      "execution_count": 0,
      "outputs": []
    },
    {
      "cell_type": "code",
      "metadata": {
        "id": "OJTRtkE_6sAS",
        "colab_type": "code",
        "colab": {}
      },
      "source": [
        "model_mask.add(Dense(128))\n",
        "model_mask.add(Activation('relu'))\n",
        "model_mask.add(Dense(64))\n",
        "model_mask.add(Activation('relu'))\n",
        "model_mask.add(Dropout(0.25))\n",
        "model_mask.add(Dense(4))\n",
        "model_mask.add(Activation('softmax'))"
      ],
      "execution_count": 0,
      "outputs": []
    },
    {
      "cell_type": "code",
      "metadata": {
        "id": "1nRuUZJb1E7-",
        "colab_type": "code",
        "outputId": "5b6aa459-94c2-47cd-e4e0-f93b00d42e91",
        "colab": {
          "base_uri": "https://localhost:8080/",
          "height": 1000
        }
      },
      "source": [
        "model_mask.summary()"
      ],
      "execution_count": 15,
      "outputs": [
        {
          "output_type": "stream",
          "text": [
            "Model: \"sequential\"\n",
            "_________________________________________________________________\n",
            "Layer (type)                 Output Shape              Param #   \n",
            "=================================================================\n",
            "block1_conv1 (Conv2D)        multiple                  1792      \n",
            "_________________________________________________________________\n",
            "block1_conv2 (Conv2D)        multiple                  36928     \n",
            "_________________________________________________________________\n",
            "block1_pool (MaxPooling2D)   multiple                  0         \n",
            "_________________________________________________________________\n",
            "block2_conv1 (Conv2D)        multiple                  73856     \n",
            "_________________________________________________________________\n",
            "block2_conv2 (Conv2D)        multiple                  147584    \n",
            "_________________________________________________________________\n",
            "block2_pool (MaxPooling2D)   multiple                  0         \n",
            "_________________________________________________________________\n",
            "block3_conv1 (Conv2D)        multiple                  295168    \n",
            "_________________________________________________________________\n",
            "block3_conv2 (Conv2D)        multiple                  590080    \n",
            "_________________________________________________________________\n",
            "block3_conv3 (Conv2D)        multiple                  590080    \n",
            "_________________________________________________________________\n",
            "block3_pool (MaxPooling2D)   multiple                  0         \n",
            "_________________________________________________________________\n",
            "block4_conv1 (Conv2D)        multiple                  1180160   \n",
            "_________________________________________________________________\n",
            "block4_conv2 (Conv2D)        multiple                  2359808   \n",
            "_________________________________________________________________\n",
            "block4_conv3 (Conv2D)        multiple                  2359808   \n",
            "_________________________________________________________________\n",
            "block4_pool (MaxPooling2D)   multiple                  0         \n",
            "_________________________________________________________________\n",
            "block5_conv1 (Conv2D)        multiple                  2359808   \n",
            "_________________________________________________________________\n",
            "block5_conv2 (Conv2D)        multiple                  2359808   \n",
            "_________________________________________________________________\n",
            "block5_conv3 (Conv2D)        multiple                  2359808   \n",
            "_________________________________________________________________\n",
            "block5_pool (MaxPooling2D)   multiple                  0         \n",
            "_________________________________________________________________\n",
            "conv2d (Conv2D)              (None, 2, 2, 64)          131136    \n",
            "_________________________________________________________________\n",
            "activation (Activation)      (None, 2, 2, 64)          0         \n",
            "_________________________________________________________________\n",
            "max_pooling2d (MaxPooling2D) (None, 2, 2, 64)          0         \n",
            "_________________________________________________________________\n",
            "conv2d_1 (Conv2D)            (None, 2, 2, 64)          16448     \n",
            "_________________________________________________________________\n",
            "activation_1 (Activation)    (None, 2, 2, 64)          0         \n",
            "_________________________________________________________________\n",
            "max_pooling2d_1 (MaxPooling2 (None, 2, 2, 64)          0         \n",
            "_________________________________________________________________\n",
            "flatten (Flatten)            (None, 256)               0         \n",
            "_________________________________________________________________\n",
            "dense (Dense)                (None, 128)               32896     \n",
            "_________________________________________________________________\n",
            "activation_2 (Activation)    (None, 128)               0         \n",
            "_________________________________________________________________\n",
            "dense_1 (Dense)              (None, 64)                8256      \n",
            "_________________________________________________________________\n",
            "activation_3 (Activation)    (None, 64)                0         \n",
            "_________________________________________________________________\n",
            "dropout (Dropout)            (None, 64)                0         \n",
            "_________________________________________________________________\n",
            "dense_2 (Dense)              (None, 4)                 260       \n",
            "_________________________________________________________________\n",
            "activation_4 (Activation)    (None, 4)                 0         \n",
            "=================================================================\n",
            "Total params: 14,903,684\n",
            "Trainable params: 188,996\n",
            "Non-trainable params: 14,714,688\n",
            "_________________________________________________________________\n"
          ],
          "name": "stdout"
        }
      ]
    },
    {
      "cell_type": "code",
      "metadata": {
        "id": "BOi5fPY_6_0p",
        "colab_type": "code",
        "colab": {
          "base_uri": "https://localhost:8080/",
          "height": 34
        },
        "outputId": "f6954e8b-a142-4479-8ac6-1e7dc4d5f3aa"
      },
      "source": [
        "from keras import metrics\n",
        "model_mask.compile(loss='categorical_crossentropy',\n",
        "              optimizer=tf.keras.optimizers.SGD(\n",
        "                  learning_rate=0.01, momentum=0.0, nesterov=False, name='SGD'),\n",
        "              metrics=[metrics.categorical_accuracy])"
      ],
      "execution_count": 16,
      "outputs": [
        {
          "output_type": "stream",
          "text": [
            "Using TensorFlow backend.\n"
          ],
          "name": "stderr"
        }
      ]
    },
    {
      "cell_type": "code",
      "metadata": {
        "id": "OTijw9zwML7h",
        "colab_type": "code",
        "outputId": "f2fe1676-0085-486b-b07a-cb87b481d0d7",
        "colab": {
          "base_uri": "https://localhost:8080/",
          "height": 1000
        }
      },
      "source": [
        "model_mask.fit(\n",
        "        train_data,\n",
        "        epochs=100,\n",
        "        validation_data=valid_data,\n",
        "        )"
      ],
      "execution_count": 17,
      "outputs": [
        {
          "output_type": "stream",
          "text": [
            "Epoch 1/100\n",
            "34/34 [==============================] - 1158s 34s/step - loss: 1.2589 - categorical_accuracy: 0.3340 - val_loss: 1.1309 - val_categorical_accuracy: 0.4627\n",
            "Epoch 2/100\n",
            "34/34 [==============================] - 3s 97ms/step - loss: 1.1503 - categorical_accuracy: 0.3693 - val_loss: 1.1226 - val_categorical_accuracy: 0.3507\n",
            "Epoch 3/100\n",
            "34/34 [==============================] - 3s 95ms/step - loss: 1.1190 - categorical_accuracy: 0.3907 - val_loss: 1.1028 - val_categorical_accuracy: 0.3545\n",
            "Epoch 4/100\n",
            "34/34 [==============================] - 3s 96ms/step - loss: 1.0659 - categorical_accuracy: 0.4335 - val_loss: 1.1007 - val_categorical_accuracy: 0.3321\n",
            "Epoch 5/100\n",
            "34/34 [==============================] - 3s 96ms/step - loss: 1.0663 - categorical_accuracy: 0.4605 - val_loss: 1.0795 - val_categorical_accuracy: 0.3470\n",
            "Epoch 6/100\n",
            "34/34 [==============================] - 3s 96ms/step - loss: 1.0454 - categorical_accuracy: 0.4586 - val_loss: 1.0497 - val_categorical_accuracy: 0.4328\n",
            "Epoch 7/100\n",
            "34/34 [==============================] - 3s 95ms/step - loss: 1.0260 - categorical_accuracy: 0.4949 - val_loss: 1.0706 - val_categorical_accuracy: 0.3545\n",
            "Epoch 8/100\n",
            "34/34 [==============================] - 3s 97ms/step - loss: 1.0326 - categorical_accuracy: 0.4791 - val_loss: 1.0982 - val_categorical_accuracy: 0.3321\n",
            "Epoch 9/100\n",
            "34/34 [==============================] - 3s 95ms/step - loss: 1.0046 - categorical_accuracy: 0.5098 - val_loss: 1.0622 - val_categorical_accuracy: 0.3993\n",
            "Epoch 10/100\n",
            "34/34 [==============================] - 3s 95ms/step - loss: 1.0049 - categorical_accuracy: 0.5051 - val_loss: 1.0904 - val_categorical_accuracy: 0.3470\n",
            "Epoch 11/100\n",
            "34/34 [==============================] - 3s 94ms/step - loss: 1.0048 - categorical_accuracy: 0.5005 - val_loss: 1.0939 - val_categorical_accuracy: 0.4067\n",
            "Epoch 12/100\n",
            "34/34 [==============================] - 3s 95ms/step - loss: 1.0034 - categorical_accuracy: 0.5126 - val_loss: 1.0725 - val_categorical_accuracy: 0.3731\n",
            "Epoch 13/100\n",
            "34/34 [==============================] - 3s 95ms/step - loss: 0.9790 - categorical_accuracy: 0.5265 - val_loss: 1.0290 - val_categorical_accuracy: 0.4851\n",
            "Epoch 14/100\n",
            "34/34 [==============================] - 3s 95ms/step - loss: 0.9779 - categorical_accuracy: 0.5302 - val_loss: 1.0837 - val_categorical_accuracy: 0.4254\n",
            "Epoch 15/100\n",
            "34/34 [==============================] - 3s 97ms/step - loss: 0.9799 - categorical_accuracy: 0.5340 - val_loss: 1.0284 - val_categorical_accuracy: 0.4142\n",
            "Epoch 16/100\n",
            "34/34 [==============================] - 3s 93ms/step - loss: 0.9765 - categorical_accuracy: 0.5451 - val_loss: 0.9933 - val_categorical_accuracy: 0.5149\n",
            "Epoch 17/100\n",
            "34/34 [==============================] - 3s 95ms/step - loss: 0.9706 - categorical_accuracy: 0.5228 - val_loss: 1.0727 - val_categorical_accuracy: 0.4104\n",
            "Epoch 18/100\n",
            "34/34 [==============================] - 3s 95ms/step - loss: 0.9646 - categorical_accuracy: 0.5433 - val_loss: 1.0531 - val_categorical_accuracy: 0.4216\n",
            "Epoch 19/100\n",
            "34/34 [==============================] - 3s 96ms/step - loss: 0.9487 - categorical_accuracy: 0.5684 - val_loss: 0.9993 - val_categorical_accuracy: 0.5224\n",
            "Epoch 20/100\n",
            "34/34 [==============================] - 3s 94ms/step - loss: 0.9424 - categorical_accuracy: 0.5647 - val_loss: 1.1050 - val_categorical_accuracy: 0.3993\n",
            "Epoch 21/100\n",
            "34/34 [==============================] - 3s 95ms/step - loss: 0.9472 - categorical_accuracy: 0.5647 - val_loss: 1.0577 - val_categorical_accuracy: 0.4963\n",
            "Epoch 22/100\n",
            "34/34 [==============================] - 3s 93ms/step - loss: 0.9417 - categorical_accuracy: 0.5721 - val_loss: 1.0783 - val_categorical_accuracy: 0.4291\n",
            "Epoch 23/100\n",
            "34/34 [==============================] - 3s 96ms/step - loss: 0.9378 - categorical_accuracy: 0.5526 - val_loss: 1.0449 - val_categorical_accuracy: 0.4515\n",
            "Epoch 24/100\n",
            "34/34 [==============================] - 3s 97ms/step - loss: 0.9277 - categorical_accuracy: 0.5795 - val_loss: 1.0251 - val_categorical_accuracy: 0.4963\n",
            "Epoch 25/100\n",
            "34/34 [==============================] - 3s 96ms/step - loss: 0.9210 - categorical_accuracy: 0.5656 - val_loss: 0.9791 - val_categorical_accuracy: 0.5112\n",
            "Epoch 26/100\n",
            "34/34 [==============================] - 3s 96ms/step - loss: 0.9003 - categorical_accuracy: 0.5888 - val_loss: 1.0126 - val_categorical_accuracy: 0.5522\n",
            "Epoch 27/100\n",
            "34/34 [==============================] - 3s 95ms/step - loss: 0.9188 - categorical_accuracy: 0.5730 - val_loss: 1.0323 - val_categorical_accuracy: 0.4590\n",
            "Epoch 28/100\n",
            "34/34 [==============================] - 3s 95ms/step - loss: 0.9010 - categorical_accuracy: 0.5898 - val_loss: 1.0326 - val_categorical_accuracy: 0.4813\n",
            "Epoch 29/100\n",
            "34/34 [==============================] - 3s 95ms/step - loss: 0.9105 - categorical_accuracy: 0.5740 - val_loss: 0.9936 - val_categorical_accuracy: 0.5261\n",
            "Epoch 30/100\n",
            "34/34 [==============================] - 3s 99ms/step - loss: 0.8970 - categorical_accuracy: 0.6009 - val_loss: 1.1741 - val_categorical_accuracy: 0.3881\n",
            "Epoch 31/100\n",
            "34/34 [==============================] - 3s 102ms/step - loss: 0.9005 - categorical_accuracy: 0.5814 - val_loss: 1.0256 - val_categorical_accuracy: 0.4925\n",
            "Epoch 32/100\n",
            "34/34 [==============================] - 3s 102ms/step - loss: 0.8971 - categorical_accuracy: 0.5926 - val_loss: 1.0084 - val_categorical_accuracy: 0.5000\n",
            "Epoch 33/100\n",
            "34/34 [==============================] - 3s 98ms/step - loss: 0.9073 - categorical_accuracy: 0.5888 - val_loss: 1.1094 - val_categorical_accuracy: 0.4179\n",
            "Epoch 34/100\n",
            "34/34 [==============================] - 3s 95ms/step - loss: 0.8833 - categorical_accuracy: 0.5879 - val_loss: 0.9798 - val_categorical_accuracy: 0.5485\n",
            "Epoch 35/100\n",
            "34/34 [==============================] - 3s 94ms/step - loss: 0.9004 - categorical_accuracy: 0.5926 - val_loss: 1.1087 - val_categorical_accuracy: 0.4403\n",
            "Epoch 36/100\n",
            "34/34 [==============================] - 3s 93ms/step - loss: 0.8694 - categorical_accuracy: 0.6028 - val_loss: 0.9815 - val_categorical_accuracy: 0.5522\n",
            "Epoch 37/100\n",
            "34/34 [==============================] - 3s 94ms/step - loss: 0.8773 - categorical_accuracy: 0.5898 - val_loss: 0.9865 - val_categorical_accuracy: 0.5448\n",
            "Epoch 38/100\n",
            "34/34 [==============================] - 3s 93ms/step - loss: 0.8834 - categorical_accuracy: 0.6056 - val_loss: 1.0241 - val_categorical_accuracy: 0.5224\n",
            "Epoch 39/100\n",
            "34/34 [==============================] - 3s 94ms/step - loss: 0.8817 - categorical_accuracy: 0.6019 - val_loss: 1.0173 - val_categorical_accuracy: 0.5224\n",
            "Epoch 40/100\n",
            "34/34 [==============================] - 3s 93ms/step - loss: 0.8748 - categorical_accuracy: 0.6214 - val_loss: 1.1108 - val_categorical_accuracy: 0.4440\n",
            "Epoch 41/100\n",
            "34/34 [==============================] - 3s 95ms/step - loss: 0.8587 - categorical_accuracy: 0.6242 - val_loss: 0.9870 - val_categorical_accuracy: 0.5485\n",
            "Epoch 42/100\n",
            "34/34 [==============================] - 3s 96ms/step - loss: 0.8440 - categorical_accuracy: 0.6270 - val_loss: 1.0489 - val_categorical_accuracy: 0.4888\n",
            "Epoch 43/100\n",
            "34/34 [==============================] - 3s 96ms/step - loss: 0.8476 - categorical_accuracy: 0.6130 - val_loss: 1.0077 - val_categorical_accuracy: 0.5522\n",
            "Epoch 44/100\n",
            "34/34 [==============================] - 3s 96ms/step - loss: 0.8556 - categorical_accuracy: 0.6121 - val_loss: 0.9595 - val_categorical_accuracy: 0.5634\n",
            "Epoch 45/100\n",
            "34/34 [==============================] - 3s 97ms/step - loss: 0.8526 - categorical_accuracy: 0.6223 - val_loss: 0.9308 - val_categorical_accuracy: 0.5970\n",
            "Epoch 46/100\n",
            "34/34 [==============================] - 3s 96ms/step - loss: 0.8345 - categorical_accuracy: 0.6326 - val_loss: 0.9334 - val_categorical_accuracy: 0.6119\n",
            "Epoch 47/100\n",
            "34/34 [==============================] - 3s 95ms/step - loss: 0.8322 - categorical_accuracy: 0.6242 - val_loss: 1.0937 - val_categorical_accuracy: 0.5037\n",
            "Epoch 48/100\n",
            "34/34 [==============================] - 3s 96ms/step - loss: 0.8440 - categorical_accuracy: 0.6233 - val_loss: 1.0999 - val_categorical_accuracy: 0.4627\n",
            "Epoch 49/100\n",
            "34/34 [==============================] - 3s 95ms/step - loss: 0.8278 - categorical_accuracy: 0.6447 - val_loss: 0.9041 - val_categorical_accuracy: 0.6119\n",
            "Epoch 50/100\n",
            "34/34 [==============================] - 3s 93ms/step - loss: 0.8489 - categorical_accuracy: 0.6419 - val_loss: 0.9930 - val_categorical_accuracy: 0.5410\n",
            "Epoch 51/100\n",
            "34/34 [==============================] - 3s 95ms/step - loss: 0.8240 - categorical_accuracy: 0.6400 - val_loss: 1.0087 - val_categorical_accuracy: 0.5112\n",
            "Epoch 52/100\n",
            "34/34 [==============================] - 3s 98ms/step - loss: 0.8241 - categorical_accuracy: 0.6363 - val_loss: 0.9148 - val_categorical_accuracy: 0.6119\n",
            "Epoch 53/100\n",
            "34/34 [==============================] - 3s 93ms/step - loss: 0.8192 - categorical_accuracy: 0.6372 - val_loss: 1.1013 - val_categorical_accuracy: 0.4739\n",
            "Epoch 54/100\n",
            "34/34 [==============================] - 3s 94ms/step - loss: 0.8059 - categorical_accuracy: 0.6437 - val_loss: 1.0593 - val_categorical_accuracy: 0.5299\n",
            "Epoch 55/100\n",
            "34/34 [==============================] - 3s 95ms/step - loss: 0.7947 - categorical_accuracy: 0.6567 - val_loss: 1.1690 - val_categorical_accuracy: 0.4701\n",
            "Epoch 56/100\n",
            "34/34 [==============================] - 3s 96ms/step - loss: 0.8179 - categorical_accuracy: 0.6419 - val_loss: 1.0080 - val_categorical_accuracy: 0.5410\n",
            "Epoch 57/100\n",
            "34/34 [==============================] - 3s 96ms/step - loss: 0.8182 - categorical_accuracy: 0.6428 - val_loss: 0.9490 - val_categorical_accuracy: 0.5896\n",
            "Epoch 58/100\n",
            "34/34 [==============================] - 3s 98ms/step - loss: 0.8172 - categorical_accuracy: 0.6381 - val_loss: 1.0305 - val_categorical_accuracy: 0.5373\n",
            "Epoch 59/100\n",
            "34/34 [==============================] - 3s 95ms/step - loss: 0.8046 - categorical_accuracy: 0.6381 - val_loss: 1.1528 - val_categorical_accuracy: 0.4515\n",
            "Epoch 60/100\n",
            "34/34 [==============================] - 3s 96ms/step - loss: 0.8066 - categorical_accuracy: 0.6660 - val_loss: 1.0355 - val_categorical_accuracy: 0.5299\n",
            "Epoch 61/100\n",
            "34/34 [==============================] - 3s 97ms/step - loss: 0.7945 - categorical_accuracy: 0.6623 - val_loss: 1.1254 - val_categorical_accuracy: 0.4925\n",
            "Epoch 62/100\n",
            "34/34 [==============================] - 3s 94ms/step - loss: 0.7900 - categorical_accuracy: 0.6670 - val_loss: 0.9159 - val_categorical_accuracy: 0.6157\n",
            "Epoch 63/100\n",
            "34/34 [==============================] - 3s 97ms/step - loss: 0.7975 - categorical_accuracy: 0.6521 - val_loss: 1.0688 - val_categorical_accuracy: 0.4851\n",
            "Epoch 64/100\n",
            "34/34 [==============================] - 3s 95ms/step - loss: 0.7874 - categorical_accuracy: 0.6614 - val_loss: 1.0172 - val_categorical_accuracy: 0.5522\n",
            "Epoch 65/100\n",
            "34/34 [==============================] - 3s 97ms/step - loss: 0.7812 - categorical_accuracy: 0.6707 - val_loss: 0.9025 - val_categorical_accuracy: 0.6157\n",
            "Epoch 66/100\n",
            "34/34 [==============================] - 3s 95ms/step - loss: 0.7693 - categorical_accuracy: 0.6642 - val_loss: 0.9362 - val_categorical_accuracy: 0.6045\n",
            "Epoch 67/100\n",
            "34/34 [==============================] - 3s 95ms/step - loss: 0.7928 - categorical_accuracy: 0.6679 - val_loss: 1.0304 - val_categorical_accuracy: 0.5261\n",
            "Epoch 68/100\n",
            "34/34 [==============================] - 3s 95ms/step - loss: 0.7679 - categorical_accuracy: 0.6772 - val_loss: 0.9802 - val_categorical_accuracy: 0.5597\n",
            "Epoch 69/100\n",
            "34/34 [==============================] - 3s 95ms/step - loss: 0.7467 - categorical_accuracy: 0.6800 - val_loss: 0.9767 - val_categorical_accuracy: 0.5299\n",
            "Epoch 70/100\n",
            "34/34 [==============================] - 3s 97ms/step - loss: 0.7660 - categorical_accuracy: 0.6595 - val_loss: 1.0377 - val_categorical_accuracy: 0.5784\n",
            "Epoch 71/100\n",
            "34/34 [==============================] - 3s 97ms/step - loss: 0.7744 - categorical_accuracy: 0.6726 - val_loss: 1.0144 - val_categorical_accuracy: 0.5560\n",
            "Epoch 72/100\n",
            "34/34 [==============================] - 3s 96ms/step - loss: 0.7717 - categorical_accuracy: 0.6726 - val_loss: 1.1424 - val_categorical_accuracy: 0.4813\n",
            "Epoch 73/100\n",
            "34/34 [==============================] - 3s 96ms/step - loss: 0.7864 - categorical_accuracy: 0.6623 - val_loss: 0.9627 - val_categorical_accuracy: 0.5485\n",
            "Epoch 74/100\n",
            "34/34 [==============================] - 3s 96ms/step - loss: 0.7943 - categorical_accuracy: 0.6670 - val_loss: 1.1460 - val_categorical_accuracy: 0.5000\n",
            "Epoch 75/100\n",
            "34/34 [==============================] - 3s 96ms/step - loss: 0.7803 - categorical_accuracy: 0.6735 - val_loss: 1.1315 - val_categorical_accuracy: 0.5000\n",
            "Epoch 76/100\n",
            "34/34 [==============================] - 3s 95ms/step - loss: 0.7186 - categorical_accuracy: 0.6949 - val_loss: 1.1072 - val_categorical_accuracy: 0.5299\n",
            "Epoch 77/100\n",
            "34/34 [==============================] - 3s 94ms/step - loss: 0.7710 - categorical_accuracy: 0.6642 - val_loss: 0.9527 - val_categorical_accuracy: 0.6045\n",
            "Epoch 78/100\n",
            "34/34 [==============================] - 3s 97ms/step - loss: 0.7621 - categorical_accuracy: 0.6633 - val_loss: 0.9770 - val_categorical_accuracy: 0.5672\n",
            "Epoch 79/100\n",
            "34/34 [==============================] - 3s 94ms/step - loss: 0.7456 - categorical_accuracy: 0.6884 - val_loss: 0.9283 - val_categorical_accuracy: 0.6269\n",
            "Epoch 80/100\n",
            "34/34 [==============================] - 3s 97ms/step - loss: 0.7600 - categorical_accuracy: 0.6595 - val_loss: 1.0841 - val_categorical_accuracy: 0.5485\n",
            "Epoch 81/100\n",
            "34/34 [==============================] - 3s 98ms/step - loss: 0.7474 - categorical_accuracy: 0.6837 - val_loss: 0.9314 - val_categorical_accuracy: 0.6082\n",
            "Epoch 82/100\n",
            "34/34 [==============================] - 3s 99ms/step - loss: 0.7436 - categorical_accuracy: 0.6679 - val_loss: 0.9050 - val_categorical_accuracy: 0.6530\n",
            "Epoch 83/100\n",
            "34/34 [==============================] - 3s 95ms/step - loss: 0.7466 - categorical_accuracy: 0.6921 - val_loss: 0.9928 - val_categorical_accuracy: 0.5709\n",
            "Epoch 84/100\n",
            "34/34 [==============================] - 3s 95ms/step - loss: 0.6948 - categorical_accuracy: 0.7209 - val_loss: 1.0315 - val_categorical_accuracy: 0.5709\n",
            "Epoch 85/100\n",
            "34/34 [==============================] - 3s 95ms/step - loss: 0.7229 - categorical_accuracy: 0.6967 - val_loss: 1.1706 - val_categorical_accuracy: 0.4963\n",
            "Epoch 86/100\n",
            "34/34 [==============================] - 3s 95ms/step - loss: 0.7473 - categorical_accuracy: 0.6781 - val_loss: 0.9169 - val_categorical_accuracy: 0.6119\n",
            "Epoch 87/100\n",
            "34/34 [==============================] - 3s 95ms/step - loss: 0.7411 - categorical_accuracy: 0.6884 - val_loss: 1.0016 - val_categorical_accuracy: 0.5821\n",
            "Epoch 88/100\n",
            "34/34 [==============================] - 3s 93ms/step - loss: 0.7090 - categorical_accuracy: 0.7228 - val_loss: 1.0408 - val_categorical_accuracy: 0.5560\n",
            "Epoch 89/100\n",
            "34/34 [==============================] - 3s 93ms/step - loss: 0.7498 - categorical_accuracy: 0.6865 - val_loss: 1.0855 - val_categorical_accuracy: 0.5560\n",
            "Epoch 90/100\n",
            "34/34 [==============================] - 3s 93ms/step - loss: 0.7232 - categorical_accuracy: 0.6921 - val_loss: 1.0071 - val_categorical_accuracy: 0.5933\n",
            "Epoch 91/100\n",
            "34/34 [==============================] - 3s 93ms/step - loss: 0.7509 - categorical_accuracy: 0.6726 - val_loss: 1.0344 - val_categorical_accuracy: 0.5075\n",
            "Epoch 92/100\n",
            "34/34 [==============================] - 3s 94ms/step - loss: 0.6996 - categorical_accuracy: 0.7163 - val_loss: 1.1999 - val_categorical_accuracy: 0.4813\n",
            "Epoch 93/100\n",
            "34/34 [==============================] - 3s 96ms/step - loss: 0.7140 - categorical_accuracy: 0.6921 - val_loss: 1.0627 - val_categorical_accuracy: 0.5336\n",
            "Epoch 94/100\n",
            "34/34 [==============================] - 3s 96ms/step - loss: 0.7334 - categorical_accuracy: 0.7023 - val_loss: 0.9968 - val_categorical_accuracy: 0.6045\n",
            "Epoch 95/100\n",
            "34/34 [==============================] - 3s 95ms/step - loss: 0.6746 - categorical_accuracy: 0.7377 - val_loss: 1.1198 - val_categorical_accuracy: 0.5522\n",
            "Epoch 96/100\n",
            "34/34 [==============================] - 3s 95ms/step - loss: 0.7284 - categorical_accuracy: 0.6763 - val_loss: 0.9231 - val_categorical_accuracy: 0.6082\n",
            "Epoch 97/100\n",
            "34/34 [==============================] - 3s 95ms/step - loss: 0.6865 - categorical_accuracy: 0.7116 - val_loss: 1.3510 - val_categorical_accuracy: 0.4590\n",
            "Epoch 98/100\n",
            "34/34 [==============================] - 3s 94ms/step - loss: 0.6957 - categorical_accuracy: 0.7088 - val_loss: 1.1505 - val_categorical_accuracy: 0.5149\n",
            "Epoch 99/100\n",
            "34/34 [==============================] - 3s 95ms/step - loss: 0.7132 - categorical_accuracy: 0.6958 - val_loss: 1.2631 - val_categorical_accuracy: 0.4664\n",
            "Epoch 100/100\n",
            "34/34 [==============================] - 3s 96ms/step - loss: 0.6921 - categorical_accuracy: 0.7172 - val_loss: 1.0662 - val_categorical_accuracy: 0.5299\n"
          ],
          "name": "stdout"
        },
        {
          "output_type": "execute_result",
          "data": {
            "text/plain": [
              "<tensorflow.python.keras.callbacks.History at 0x7f3d5f9d6828>"
            ]
          },
          "metadata": {
            "tags": []
          },
          "execution_count": 17
        }
      ]
    },
    {
      "cell_type": "code",
      "metadata": {
        "id": "pdKwQtV0px16",
        "colab_type": "code",
        "colab": {
          "base_uri": "https://localhost:8080/",
          "height": 34
        },
        "outputId": "a9047263-e68d-45d4-f837-bfcbe4f6bf11"
      },
      "source": [
        "labels_mask = (train_data.class_indices)\n",
        "labels_mask = dict((v,k) for k,v in labels_mask.items())\n",
        "labels_mask"
      ],
      "execution_count": 19,
      "outputs": [
        {
          "output_type": "execute_result",
          "data": {
            "text/plain": [
              "{0: 'invisible', 1: 'no', 2: 'wrong', 3: 'yes'}"
            ]
          },
          "metadata": {
            "tags": []
          },
          "execution_count": 19
        }
      ]
    },
    {
      "cell_type": "code",
      "metadata": {
        "id": "rCPLLgBUv_7L",
        "colab_type": "code",
        "colab": {}
      },
      "source": [
        "model_mask.save_weights(\"model_mask.h5\")"
      ],
      "execution_count": 0,
      "outputs": []
    },
    {
      "cell_type": "code",
      "metadata": {
        "id": "CFRuYS9QwUxI",
        "colab_type": "code",
        "colab": {}
      },
      "source": [
        "model_mask_json = model_mask.to_json()\n",
        "with open(\"model_mask.json\", \"w\") as json_file:\n",
        "    json_file.write(model_mask_json)"
      ],
      "execution_count": 0,
      "outputs": []
    },
    {
      "cell_type": "markdown",
      "metadata": {
        "id": "9CtMiItFq3wt",
        "colab_type": "text"
      },
      "source": [
        "# Training model for Helmet detection on heads detected from Yolo V3 model"
      ]
    },
    {
      "cell_type": "code",
      "metadata": {
        "id": "dEQa8MlWrACp",
        "colab_type": "code",
        "colab": {}
      },
      "source": [
        "import tensorflow\n",
        "from tensorflow.keras.preprocessing.image import ImageDataGenerator"
      ],
      "execution_count": 0,
      "outputs": []
    },
    {
      "cell_type": "code",
      "metadata": {
        "id": "YoTsITFzrJz2",
        "colab_type": "code",
        "outputId": "1d14551a-0176-44be-84ae-d338fe07cbb1",
        "colab": {
          "base_uri": "https://localhost:8080/",
          "height": 85
        }
      },
      "source": [
        "datagen = ImageDataGenerator(\n",
        "        rescale=1./255,\n",
        "        shear_range=0.2,\n",
        "        zoom_range=0.2,\n",
        "        horizontal_flip=True,\n",
        "        validation_split = 0.2)\n",
        "\n",
        "train_data = datagen.flow_from_dataframe(\n",
        "    dataframe=data,\n",
        "    directory = './',\n",
        "    x_col = 'image',\n",
        "    y_col=\"helmet\",\n",
        "    target_size=(64, 64),\n",
        "    batch_size = 32,\n",
        "    shuffle = True,\n",
        "    class_mode = \"binary\",\n",
        "    subset = 'training'\n",
        ")\n",
        "\n",
        "valid_data = datagen.flow_from_dataframe(\n",
        "    dataframe = data,\n",
        "    directory = './',\n",
        "    x_col = 'image',\n",
        "    y_col = \"helmet\",\n",
        "    target_size = (64, 64),\n",
        "    batch_size =32,\n",
        "    shuffle = True,\n",
        "    class_mode = \"binary\",\n",
        "    subset = 'validation'\n",
        ")"
      ],
      "execution_count": 25,
      "outputs": [
        {
          "output_type": "stream",
          "text": [
            "/usr/local/lib/python3.6/dist-packages/keras_preprocessing/image/dataframe_iterator.py:282: UserWarning: Found 1 invalid image filename(s) in x_col=\"image\". These filename(s) will be ignored.\n",
            "  .format(n_invalid, x_col)\n"
          ],
          "name": "stderr"
        },
        {
          "output_type": "stream",
          "text": [
            "Found 1075 validated image filenames belonging to 2 classes.\n",
            "Found 268 validated image filenames belonging to 2 classes.\n"
          ],
          "name": "stdout"
        }
      ]
    },
    {
      "cell_type": "code",
      "metadata": {
        "id": "U521YFOHrUm3",
        "colab_type": "code",
        "colab": {}
      },
      "source": [
        "import tensorflow as tf\n",
        "from tensorflow.compat.v1.layers import MaxPooling2D\n",
        "from tensorflow.keras.applications import VGG16\n",
        "from tensorflow.keras.layers import InputLayer\n",
        "# from keras import layers\n",
        "from tensorflow.keras.models import Sequential\n",
        "from tensorflow.keras.layers import Conv2D, MaxPool2D\n",
        "from tensorflow.keras.layers import Activation, Dropout, Flatten, Dense"
      ],
      "execution_count": 0,
      "outputs": []
    },
    {
      "cell_type": "code",
      "metadata": {
        "id": "Tq00Yn_WshPT",
        "colab_type": "code",
        "colab": {}
      },
      "source": [
        "model_helmet = Sequential()\n",
        "model_helmet.add( InputLayer(input_shape=(64, 64, 3), name='image_input') )"
      ],
      "execution_count": 0,
      "outputs": []
    },
    {
      "cell_type": "code",
      "metadata": {
        "id": "e79dqi5sskil",
        "colab_type": "code",
        "colab": {}
      },
      "source": [
        "for layer in vgg16_model.layers[1:-4]:\n",
        "  model_helmet.add(layer)"
      ],
      "execution_count": 0,
      "outputs": []
    },
    {
      "cell_type": "code",
      "metadata": {
        "id": "P-Usuy99srVZ",
        "colab_type": "code",
        "outputId": "d3ccc8b0-b2ef-4af4-b466-56a0285af033",
        "colab": {
          "base_uri": "https://localhost:8080/",
          "height": 765
        }
      },
      "source": [
        "model_helmet.summary()"
      ],
      "execution_count": 29,
      "outputs": [
        {
          "output_type": "stream",
          "text": [
            "Model: \"sequential_1\"\n",
            "_________________________________________________________________\n",
            "Layer (type)                 Output Shape              Param #   \n",
            "=================================================================\n",
            "block1_conv1 (Conv2D)        multiple                  1792      \n",
            "_________________________________________________________________\n",
            "block1_conv2 (Conv2D)        multiple                  36928     \n",
            "_________________________________________________________________\n",
            "block1_pool (MaxPooling2D)   multiple                  0         \n",
            "_________________________________________________________________\n",
            "block2_conv1 (Conv2D)        multiple                  73856     \n",
            "_________________________________________________________________\n",
            "block2_conv2 (Conv2D)        multiple                  147584    \n",
            "_________________________________________________________________\n",
            "block2_pool (MaxPooling2D)   multiple                  0         \n",
            "_________________________________________________________________\n",
            "block3_conv1 (Conv2D)        multiple                  295168    \n",
            "_________________________________________________________________\n",
            "block3_conv2 (Conv2D)        multiple                  590080    \n",
            "_________________________________________________________________\n",
            "block3_conv3 (Conv2D)        multiple                  590080    \n",
            "_________________________________________________________________\n",
            "block3_pool (MaxPooling2D)   multiple                  0         \n",
            "_________________________________________________________________\n",
            "block4_conv1 (Conv2D)        multiple                  1180160   \n",
            "_________________________________________________________________\n",
            "block4_conv2 (Conv2D)        multiple                  2359808   \n",
            "_________________________________________________________________\n",
            "block4_conv3 (Conv2D)        multiple                  2359808   \n",
            "_________________________________________________________________\n",
            "block4_pool (MaxPooling2D)   multiple                  0         \n",
            "_________________________________________________________________\n",
            "block5_conv1 (Conv2D)        multiple                  2359808   \n",
            "_________________________________________________________________\n",
            "block5_conv2 (Conv2D)        multiple                  2359808   \n",
            "_________________________________________________________________\n",
            "block5_conv3 (Conv2D)        multiple                  2359808   \n",
            "_________________________________________________________________\n",
            "block5_pool (MaxPooling2D)   multiple                  0         \n",
            "=================================================================\n",
            "Total params: 14,714,688\n",
            "Trainable params: 0\n",
            "Non-trainable params: 14,714,688\n",
            "_________________________________________________________________\n"
          ],
          "name": "stdout"
        }
      ]
    },
    {
      "cell_type": "code",
      "metadata": {
        "id": "0R478oWAsxVy",
        "colab_type": "code",
        "colab": {}
      },
      "source": [
        "for layer in model_helmet.layers:\n",
        "  layer.trainable = False"
      ],
      "execution_count": 0,
      "outputs": []
    },
    {
      "cell_type": "code",
      "metadata": {
        "id": "NUh1gKPGs29K",
        "colab_type": "code",
        "colab": {}
      },
      "source": [
        "model_helmet.add(Conv2D(64, (2, 2), padding='same'))\n",
        "model_helmet.add(Activation('relu'))\n",
        "model_helmet.add(MaxPool2D(pool_size=(2, 2), strides = (1,1), padding='same'))\n",
        "\n",
        "model_helmet.add(Conv2D(64, (2, 2), padding='same'))\n",
        "model_helmet.add(Activation('relu'))\n",
        "model_helmet.add(MaxPool2D(pool_size=(2, 2), strides = (1,1), padding='same'))"
      ],
      "execution_count": 0,
      "outputs": []
    },
    {
      "cell_type": "code",
      "metadata": {
        "id": "3XD7pNgUs_l6",
        "colab_type": "code",
        "colab": {}
      },
      "source": [
        "model_helmet.add(Flatten()) "
      ],
      "execution_count": 0,
      "outputs": []
    },
    {
      "cell_type": "code",
      "metadata": {
        "id": "by2sa-6atC1w",
        "colab_type": "code",
        "colab": {}
      },
      "source": [
        "model_helmet.add(Dense(128))\n",
        "model_helmet.add(Activation('relu'))\n",
        "model_helmet.add(Dense(64))\n",
        "model_helmet.add(Activation('relu'))\n",
        "model_helmet.add(Dropout(0.25))\n",
        "model_helmet.add(Dense(1))\n",
        "model_helmet.add(Activation('sigmoid'))"
      ],
      "execution_count": 0,
      "outputs": []
    },
    {
      "cell_type": "code",
      "metadata": {
        "id": "WFQTl9RYtFzy",
        "colab_type": "code",
        "outputId": "97e241f9-46f7-4255-ecd9-f7ca6b49ea39",
        "colab": {
          "base_uri": "https://localhost:8080/",
          "height": 1000
        }
      },
      "source": [
        "model_helmet.summary()"
      ],
      "execution_count": 34,
      "outputs": [
        {
          "output_type": "stream",
          "text": [
            "Model: \"sequential_1\"\n",
            "_________________________________________________________________\n",
            "Layer (type)                 Output Shape              Param #   \n",
            "=================================================================\n",
            "block1_conv1 (Conv2D)        multiple                  1792      \n",
            "_________________________________________________________________\n",
            "block1_conv2 (Conv2D)        multiple                  36928     \n",
            "_________________________________________________________________\n",
            "block1_pool (MaxPooling2D)   multiple                  0         \n",
            "_________________________________________________________________\n",
            "block2_conv1 (Conv2D)        multiple                  73856     \n",
            "_________________________________________________________________\n",
            "block2_conv2 (Conv2D)        multiple                  147584    \n",
            "_________________________________________________________________\n",
            "block2_pool (MaxPooling2D)   multiple                  0         \n",
            "_________________________________________________________________\n",
            "block3_conv1 (Conv2D)        multiple                  295168    \n",
            "_________________________________________________________________\n",
            "block3_conv2 (Conv2D)        multiple                  590080    \n",
            "_________________________________________________________________\n",
            "block3_conv3 (Conv2D)        multiple                  590080    \n",
            "_________________________________________________________________\n",
            "block3_pool (MaxPooling2D)   multiple                  0         \n",
            "_________________________________________________________________\n",
            "block4_conv1 (Conv2D)        multiple                  1180160   \n",
            "_________________________________________________________________\n",
            "block4_conv2 (Conv2D)        multiple                  2359808   \n",
            "_________________________________________________________________\n",
            "block4_conv3 (Conv2D)        multiple                  2359808   \n",
            "_________________________________________________________________\n",
            "block4_pool (MaxPooling2D)   multiple                  0         \n",
            "_________________________________________________________________\n",
            "block5_conv1 (Conv2D)        multiple                  2359808   \n",
            "_________________________________________________________________\n",
            "block5_conv2 (Conv2D)        multiple                  2359808   \n",
            "_________________________________________________________________\n",
            "block5_conv3 (Conv2D)        multiple                  2359808   \n",
            "_________________________________________________________________\n",
            "block5_pool (MaxPooling2D)   multiple                  0         \n",
            "_________________________________________________________________\n",
            "conv2d_2 (Conv2D)            (None, 2, 2, 64)          131136    \n",
            "_________________________________________________________________\n",
            "activation_5 (Activation)    (None, 2, 2, 64)          0         \n",
            "_________________________________________________________________\n",
            "max_pooling2d_2 (MaxPooling2 (None, 2, 2, 64)          0         \n",
            "_________________________________________________________________\n",
            "conv2d_3 (Conv2D)            (None, 2, 2, 64)          16448     \n",
            "_________________________________________________________________\n",
            "activation_6 (Activation)    (None, 2, 2, 64)          0         \n",
            "_________________________________________________________________\n",
            "max_pooling2d_3 (MaxPooling2 (None, 2, 2, 64)          0         \n",
            "_________________________________________________________________\n",
            "flatten_1 (Flatten)          (None, 256)               0         \n",
            "_________________________________________________________________\n",
            "dense_3 (Dense)              (None, 128)               32896     \n",
            "_________________________________________________________________\n",
            "activation_7 (Activation)    (None, 128)               0         \n",
            "_________________________________________________________________\n",
            "dense_4 (Dense)              (None, 64)                8256      \n",
            "_________________________________________________________________\n",
            "activation_8 (Activation)    (None, 64)                0         \n",
            "_________________________________________________________________\n",
            "dropout_1 (Dropout)          (None, 64)                0         \n",
            "_________________________________________________________________\n",
            "dense_5 (Dense)              (None, 1)                 65        \n",
            "_________________________________________________________________\n",
            "activation_9 (Activation)    (None, 1)                 0         \n",
            "=================================================================\n",
            "Total params: 14,903,489\n",
            "Trainable params: 188,801\n",
            "Non-trainable params: 14,714,688\n",
            "_________________________________________________________________\n"
          ],
          "name": "stdout"
        }
      ]
    },
    {
      "cell_type": "code",
      "metadata": {
        "id": "TgrNk7yFwvBW",
        "colab_type": "code",
        "colab": {}
      },
      "source": [
        "from keras import metrics\n",
        "model_helmet.compile(loss='binary_crossentropy',\n",
        "              optimizer=tf.keras.optimizers.SGD(\n",
        "                  learning_rate=0.01, momentum=0.0, nesterov=False, name='SGD'),\n",
        "              metrics=[metrics.binary_accuracy])"
      ],
      "execution_count": 0,
      "outputs": []
    },
    {
      "cell_type": "code",
      "metadata": {
        "id": "moJcFAivxOF2",
        "colab_type": "code",
        "outputId": "e1720587-d84d-4893-c5aa-41a484a25cb7",
        "colab": {
          "base_uri": "https://localhost:8080/",
          "height": 1000
        }
      },
      "source": [
        "model_helmet.fit(\n",
        "        train_data,\n",
        "        epochs=100,\n",
        "        validation_data=valid_data,\n",
        "        )"
      ],
      "execution_count": 36,
      "outputs": [
        {
          "output_type": "stream",
          "text": [
            "Epoch 1/100\n",
            "34/34 [==============================] - 3s 97ms/step - loss: 0.6245 - binary_accuracy: 0.6837 - val_loss: 0.6132 - val_binary_accuracy: 0.6828\n",
            "Epoch 2/100\n",
            "34/34 [==============================] - 3s 91ms/step - loss: 0.6083 - binary_accuracy: 0.6949 - val_loss: 0.6040 - val_binary_accuracy: 0.6828\n",
            "Epoch 3/100\n",
            "34/34 [==============================] - 3s 92ms/step - loss: 0.5966 - binary_accuracy: 0.6949 - val_loss: 0.5909 - val_binary_accuracy: 0.6828\n",
            "Epoch 4/100\n",
            "34/34 [==============================] - 3s 92ms/step - loss: 0.5819 - binary_accuracy: 0.6949 - val_loss: 0.5780 - val_binary_accuracy: 0.6828\n",
            "Epoch 5/100\n",
            "34/34 [==============================] - 3s 91ms/step - loss: 0.5711 - binary_accuracy: 0.6967 - val_loss: 0.5538 - val_binary_accuracy: 0.6940\n",
            "Epoch 6/100\n",
            "34/34 [==============================] - 3s 91ms/step - loss: 0.5671 - binary_accuracy: 0.7014 - val_loss: 0.5563 - val_binary_accuracy: 0.6828\n",
            "Epoch 7/100\n",
            "34/34 [==============================] - 3s 92ms/step - loss: 0.5573 - binary_accuracy: 0.7116 - val_loss: 0.5462 - val_binary_accuracy: 0.6978\n",
            "Epoch 8/100\n",
            "34/34 [==============================] - 3s 92ms/step - loss: 0.5484 - binary_accuracy: 0.7116 - val_loss: 0.5269 - val_binary_accuracy: 0.7015\n",
            "Epoch 9/100\n",
            "34/34 [==============================] - 3s 94ms/step - loss: 0.5327 - binary_accuracy: 0.7293 - val_loss: 0.5228 - val_binary_accuracy: 0.7127\n",
            "Epoch 10/100\n",
            "34/34 [==============================] - 3s 93ms/step - loss: 0.5301 - binary_accuracy: 0.7321 - val_loss: 0.5408 - val_binary_accuracy: 0.7052\n",
            "Epoch 11/100\n",
            "34/34 [==============================] - 3s 95ms/step - loss: 0.5240 - binary_accuracy: 0.7367 - val_loss: 0.5409 - val_binary_accuracy: 0.7015\n",
            "Epoch 12/100\n",
            "34/34 [==============================] - 3s 95ms/step - loss: 0.5140 - binary_accuracy: 0.7312 - val_loss: 0.5424 - val_binary_accuracy: 0.7052\n",
            "Epoch 13/100\n",
            "34/34 [==============================] - 3s 93ms/step - loss: 0.5110 - binary_accuracy: 0.7535 - val_loss: 0.5004 - val_binary_accuracy: 0.7388\n",
            "Epoch 14/100\n",
            "34/34 [==============================] - 3s 91ms/step - loss: 0.5128 - binary_accuracy: 0.7377 - val_loss: 0.5237 - val_binary_accuracy: 0.7351\n",
            "Epoch 15/100\n",
            "34/34 [==============================] - 3s 92ms/step - loss: 0.5020 - binary_accuracy: 0.7498 - val_loss: 0.4914 - val_binary_accuracy: 0.7463\n",
            "Epoch 16/100\n",
            "34/34 [==============================] - 3s 97ms/step - loss: 0.4923 - binary_accuracy: 0.7591 - val_loss: 0.5243 - val_binary_accuracy: 0.7127\n",
            "Epoch 17/100\n",
            "34/34 [==============================] - 3s 97ms/step - loss: 0.4921 - binary_accuracy: 0.7674 - val_loss: 0.5889 - val_binary_accuracy: 0.6866\n",
            "Epoch 18/100\n",
            "34/34 [==============================] - 3s 97ms/step - loss: 0.4942 - binary_accuracy: 0.7414 - val_loss: 0.4720 - val_binary_accuracy: 0.7388\n",
            "Epoch 19/100\n",
            "34/34 [==============================] - 3s 97ms/step - loss: 0.4893 - binary_accuracy: 0.7572 - val_loss: 0.4961 - val_binary_accuracy: 0.7388\n",
            "Epoch 20/100\n",
            "34/34 [==============================] - 3s 95ms/step - loss: 0.4813 - binary_accuracy: 0.7591 - val_loss: 0.4817 - val_binary_accuracy: 0.7575\n",
            "Epoch 21/100\n",
            "34/34 [==============================] - 3s 93ms/step - loss: 0.4903 - binary_accuracy: 0.7535 - val_loss: 0.4729 - val_binary_accuracy: 0.7537\n",
            "Epoch 22/100\n",
            "34/34 [==============================] - 3s 98ms/step - loss: 0.4834 - binary_accuracy: 0.7637 - val_loss: 0.5136 - val_binary_accuracy: 0.7276\n",
            "Epoch 23/100\n",
            "34/34 [==============================] - 3s 95ms/step - loss: 0.4668 - binary_accuracy: 0.7749 - val_loss: 0.4533 - val_binary_accuracy: 0.7687\n",
            "Epoch 24/100\n",
            "34/34 [==============================] - 3s 99ms/step - loss: 0.4550 - binary_accuracy: 0.7795 - val_loss: 0.4556 - val_binary_accuracy: 0.7612\n",
            "Epoch 25/100\n",
            "34/34 [==============================] - 3s 103ms/step - loss: 0.4790 - binary_accuracy: 0.7637 - val_loss: 0.4710 - val_binary_accuracy: 0.7724\n",
            "Epoch 26/100\n",
            "34/34 [==============================] - 4s 106ms/step - loss: 0.4775 - binary_accuracy: 0.7758 - val_loss: 0.4718 - val_binary_accuracy: 0.7500\n",
            "Epoch 27/100\n",
            "34/34 [==============================] - 4s 106ms/step - loss: 0.4563 - binary_accuracy: 0.7702 - val_loss: 0.4536 - val_binary_accuracy: 0.7873\n",
            "Epoch 28/100\n",
            "34/34 [==============================] - 3s 97ms/step - loss: 0.4695 - binary_accuracy: 0.7777 - val_loss: 0.4483 - val_binary_accuracy: 0.7724\n",
            "Epoch 29/100\n",
            "34/34 [==============================] - 3s 98ms/step - loss: 0.4654 - binary_accuracy: 0.7795 - val_loss: 0.5221 - val_binary_accuracy: 0.7500\n",
            "Epoch 30/100\n",
            "34/34 [==============================] - 3s 99ms/step - loss: 0.4695 - binary_accuracy: 0.7637 - val_loss: 0.4819 - val_binary_accuracy: 0.7612\n",
            "Epoch 31/100\n",
            "34/34 [==============================] - 3s 96ms/step - loss: 0.4564 - binary_accuracy: 0.7823 - val_loss: 0.4630 - val_binary_accuracy: 0.7649\n",
            "Epoch 32/100\n",
            "34/34 [==============================] - 3s 100ms/step - loss: 0.4575 - binary_accuracy: 0.7767 - val_loss: 0.5167 - val_binary_accuracy: 0.7425\n",
            "Epoch 33/100\n",
            "34/34 [==============================] - 3s 99ms/step - loss: 0.4438 - binary_accuracy: 0.7879 - val_loss: 0.5114 - val_binary_accuracy: 0.7612\n",
            "Epoch 34/100\n",
            "34/34 [==============================] - 3s 95ms/step - loss: 0.4453 - binary_accuracy: 0.7805 - val_loss: 0.4143 - val_binary_accuracy: 0.8209\n",
            "Epoch 35/100\n",
            "34/34 [==============================] - 3s 94ms/step - loss: 0.4344 - binary_accuracy: 0.7926 - val_loss: 0.4454 - val_binary_accuracy: 0.7724\n",
            "Epoch 36/100\n",
            "34/34 [==============================] - 3s 95ms/step - loss: 0.4541 - binary_accuracy: 0.7721 - val_loss: 0.4679 - val_binary_accuracy: 0.7649\n",
            "Epoch 37/100\n",
            "34/34 [==============================] - 3s 93ms/step - loss: 0.4488 - binary_accuracy: 0.7767 - val_loss: 0.4669 - val_binary_accuracy: 0.7537\n",
            "Epoch 38/100\n",
            "34/34 [==============================] - 3s 92ms/step - loss: 0.4475 - binary_accuracy: 0.7851 - val_loss: 0.4488 - val_binary_accuracy: 0.7985\n",
            "Epoch 39/100\n",
            "34/34 [==============================] - 3s 95ms/step - loss: 0.4245 - binary_accuracy: 0.8009 - val_loss: 0.4415 - val_binary_accuracy: 0.7836\n",
            "Epoch 40/100\n",
            "34/34 [==============================] - 3s 95ms/step - loss: 0.4365 - binary_accuracy: 0.7833 - val_loss: 0.5198 - val_binary_accuracy: 0.7537\n",
            "Epoch 41/100\n",
            "34/34 [==============================] - 3s 92ms/step - loss: 0.4326 - binary_accuracy: 0.7935 - val_loss: 0.4584 - val_binary_accuracy: 0.7836\n",
            "Epoch 42/100\n",
            "34/34 [==============================] - 3s 93ms/step - loss: 0.4491 - binary_accuracy: 0.7916 - val_loss: 0.4321 - val_binary_accuracy: 0.7724\n",
            "Epoch 43/100\n",
            "34/34 [==============================] - 3s 97ms/step - loss: 0.4251 - binary_accuracy: 0.8074 - val_loss: 0.4642 - val_binary_accuracy: 0.7649\n",
            "Epoch 44/100\n",
            "34/34 [==============================] - 3s 94ms/step - loss: 0.4338 - binary_accuracy: 0.7972 - val_loss: 0.4129 - val_binary_accuracy: 0.7985\n",
            "Epoch 45/100\n",
            "34/34 [==============================] - 3s 93ms/step - loss: 0.4068 - binary_accuracy: 0.8167 - val_loss: 0.4538 - val_binary_accuracy: 0.7836\n",
            "Epoch 46/100\n",
            "34/34 [==============================] - 3s 93ms/step - loss: 0.4336 - binary_accuracy: 0.7991 - val_loss: 0.5195 - val_binary_accuracy: 0.7500\n",
            "Epoch 47/100\n",
            "34/34 [==============================] - 3s 93ms/step - loss: 0.4245 - binary_accuracy: 0.7833 - val_loss: 0.4319 - val_binary_accuracy: 0.7836\n",
            "Epoch 48/100\n",
            "34/34 [==============================] - 3s 93ms/step - loss: 0.3894 - binary_accuracy: 0.8223 - val_loss: 0.4706 - val_binary_accuracy: 0.7761\n",
            "Epoch 49/100\n",
            "34/34 [==============================] - 3s 94ms/step - loss: 0.4456 - binary_accuracy: 0.7795 - val_loss: 0.4232 - val_binary_accuracy: 0.7761\n",
            "Epoch 50/100\n",
            "34/34 [==============================] - 3s 93ms/step - loss: 0.4175 - binary_accuracy: 0.8084 - val_loss: 0.4122 - val_binary_accuracy: 0.8022\n",
            "Epoch 51/100\n",
            "34/34 [==============================] - 3s 93ms/step - loss: 0.4094 - binary_accuracy: 0.8149 - val_loss: 0.4354 - val_binary_accuracy: 0.8022\n",
            "Epoch 52/100\n",
            "34/34 [==============================] - 3s 94ms/step - loss: 0.4163 - binary_accuracy: 0.7991 - val_loss: 0.4371 - val_binary_accuracy: 0.7761\n",
            "Epoch 53/100\n",
            "34/34 [==============================] - 3s 94ms/step - loss: 0.4042 - binary_accuracy: 0.8093 - val_loss: 0.5502 - val_binary_accuracy: 0.7463\n",
            "Epoch 54/100\n",
            "34/34 [==============================] - 3s 93ms/step - loss: 0.4141 - binary_accuracy: 0.8009 - val_loss: 0.4500 - val_binary_accuracy: 0.7836\n",
            "Epoch 55/100\n",
            "34/34 [==============================] - 3s 91ms/step - loss: 0.4090 - binary_accuracy: 0.8121 - val_loss: 0.4204 - val_binary_accuracy: 0.7948\n",
            "Epoch 56/100\n",
            "34/34 [==============================] - 3s 92ms/step - loss: 0.4222 - binary_accuracy: 0.7823 - val_loss: 0.4828 - val_binary_accuracy: 0.7276\n",
            "Epoch 57/100\n",
            "34/34 [==============================] - 3s 94ms/step - loss: 0.4091 - binary_accuracy: 0.8074 - val_loss: 0.5501 - val_binary_accuracy: 0.7537\n",
            "Epoch 58/100\n",
            "34/34 [==============================] - 3s 93ms/step - loss: 0.4128 - binary_accuracy: 0.7879 - val_loss: 0.4849 - val_binary_accuracy: 0.7724\n",
            "Epoch 59/100\n",
            "34/34 [==============================] - 3s 94ms/step - loss: 0.3986 - binary_accuracy: 0.8214 - val_loss: 0.4972 - val_binary_accuracy: 0.7612\n",
            "Epoch 60/100\n",
            "34/34 [==============================] - 3s 93ms/step - loss: 0.3981 - binary_accuracy: 0.8186 - val_loss: 0.4313 - val_binary_accuracy: 0.7985\n",
            "Epoch 61/100\n",
            "34/34 [==============================] - 3s 92ms/step - loss: 0.4017 - binary_accuracy: 0.8102 - val_loss: 0.4006 - val_binary_accuracy: 0.8134\n",
            "Epoch 62/100\n",
            "34/34 [==============================] - 3s 93ms/step - loss: 0.4038 - binary_accuracy: 0.8223 - val_loss: 0.4216 - val_binary_accuracy: 0.7910\n",
            "Epoch 63/100\n",
            "34/34 [==============================] - 3s 94ms/step - loss: 0.3880 - binary_accuracy: 0.8214 - val_loss: 0.4193 - val_binary_accuracy: 0.8209\n",
            "Epoch 64/100\n",
            "34/34 [==============================] - 3s 92ms/step - loss: 0.3756 - binary_accuracy: 0.8288 - val_loss: 0.4197 - val_binary_accuracy: 0.7985\n",
            "Epoch 65/100\n",
            "34/34 [==============================] - 3s 93ms/step - loss: 0.3878 - binary_accuracy: 0.8270 - val_loss: 0.5254 - val_binary_accuracy: 0.7761\n",
            "Epoch 66/100\n",
            "34/34 [==============================] - 3s 92ms/step - loss: 0.3922 - binary_accuracy: 0.8316 - val_loss: 0.4504 - val_binary_accuracy: 0.8022\n",
            "Epoch 67/100\n",
            "34/34 [==============================] - 3s 92ms/step - loss: 0.3855 - binary_accuracy: 0.8242 - val_loss: 0.4204 - val_binary_accuracy: 0.8022\n",
            "Epoch 68/100\n",
            "34/34 [==============================] - 3s 93ms/step - loss: 0.3520 - binary_accuracy: 0.8344 - val_loss: 0.4262 - val_binary_accuracy: 0.8022\n",
            "Epoch 69/100\n",
            "34/34 [==============================] - 3s 92ms/step - loss: 0.3827 - binary_accuracy: 0.8326 - val_loss: 0.4229 - val_binary_accuracy: 0.8060\n",
            "Epoch 70/100\n",
            "34/34 [==============================] - 3s 92ms/step - loss: 0.3939 - binary_accuracy: 0.8260 - val_loss: 0.4375 - val_binary_accuracy: 0.7761\n",
            "Epoch 71/100\n",
            "34/34 [==============================] - 3s 92ms/step - loss: 0.3727 - binary_accuracy: 0.8353 - val_loss: 0.4153 - val_binary_accuracy: 0.8060\n",
            "Epoch 72/100\n",
            "34/34 [==============================] - 3s 91ms/step - loss: 0.3886 - binary_accuracy: 0.8270 - val_loss: 0.4788 - val_binary_accuracy: 0.7649\n",
            "Epoch 73/100\n",
            "34/34 [==============================] - 3s 93ms/step - loss: 0.3757 - binary_accuracy: 0.8372 - val_loss: 0.4418 - val_binary_accuracy: 0.7649\n",
            "Epoch 74/100\n",
            "34/34 [==============================] - 3s 93ms/step - loss: 0.3800 - binary_accuracy: 0.8205 - val_loss: 0.5187 - val_binary_accuracy: 0.7388\n",
            "Epoch 75/100\n",
            "34/34 [==============================] - 3s 91ms/step - loss: 0.3609 - binary_accuracy: 0.8307 - val_loss: 0.4496 - val_binary_accuracy: 0.7799\n",
            "Epoch 76/100\n",
            "34/34 [==============================] - 3s 93ms/step - loss: 0.3728 - binary_accuracy: 0.8307 - val_loss: 0.3811 - val_binary_accuracy: 0.8246\n",
            "Epoch 77/100\n",
            "34/34 [==============================] - 3s 92ms/step - loss: 0.3649 - binary_accuracy: 0.8428 - val_loss: 0.4862 - val_binary_accuracy: 0.7724\n",
            "Epoch 78/100\n",
            "34/34 [==============================] - 3s 93ms/step - loss: 0.3718 - binary_accuracy: 0.8344 - val_loss: 0.4577 - val_binary_accuracy: 0.7575\n",
            "Epoch 79/100\n",
            "34/34 [==============================] - 3s 92ms/step - loss: 0.3522 - binary_accuracy: 0.8521 - val_loss: 0.3920 - val_binary_accuracy: 0.8172\n",
            "Epoch 80/100\n",
            "34/34 [==============================] - 3s 93ms/step - loss: 0.3767 - binary_accuracy: 0.8205 - val_loss: 0.4149 - val_binary_accuracy: 0.8097\n",
            "Epoch 81/100\n",
            "34/34 [==============================] - 3s 93ms/step - loss: 0.3434 - binary_accuracy: 0.8447 - val_loss: 0.5147 - val_binary_accuracy: 0.7724\n",
            "Epoch 82/100\n",
            "34/34 [==============================] - 3s 93ms/step - loss: 0.3660 - binary_accuracy: 0.8363 - val_loss: 0.4762 - val_binary_accuracy: 0.7836\n",
            "Epoch 83/100\n",
            "34/34 [==============================] - 3s 93ms/step - loss: 0.3338 - binary_accuracy: 0.8437 - val_loss: 0.5174 - val_binary_accuracy: 0.7463\n",
            "Epoch 84/100\n",
            "34/34 [==============================] - 3s 95ms/step - loss: 0.3847 - binary_accuracy: 0.8270 - val_loss: 0.4541 - val_binary_accuracy: 0.7910\n",
            "Epoch 85/100\n",
            "34/34 [==============================] - 3s 93ms/step - loss: 0.3530 - binary_accuracy: 0.8335 - val_loss: 0.4024 - val_binary_accuracy: 0.8097\n",
            "Epoch 86/100\n",
            "34/34 [==============================] - 3s 93ms/step - loss: 0.3768 - binary_accuracy: 0.8223 - val_loss: 0.3811 - val_binary_accuracy: 0.8134\n",
            "Epoch 87/100\n",
            "34/34 [==============================] - 3s 94ms/step - loss: 0.3522 - binary_accuracy: 0.8419 - val_loss: 0.4290 - val_binary_accuracy: 0.7910\n",
            "Epoch 88/100\n",
            "34/34 [==============================] - 3s 92ms/step - loss: 0.3738 - binary_accuracy: 0.8223 - val_loss: 0.3807 - val_binary_accuracy: 0.8172\n",
            "Epoch 89/100\n",
            "34/34 [==============================] - 3s 93ms/step - loss: 0.3511 - binary_accuracy: 0.8456 - val_loss: 0.4693 - val_binary_accuracy: 0.7761\n",
            "Epoch 90/100\n",
            "34/34 [==============================] - 3s 92ms/step - loss: 0.3430 - binary_accuracy: 0.8484 - val_loss: 0.4196 - val_binary_accuracy: 0.7873\n",
            "Epoch 91/100\n",
            "34/34 [==============================] - 3s 98ms/step - loss: 0.3502 - binary_accuracy: 0.8391 - val_loss: 0.5813 - val_binary_accuracy: 0.6828\n",
            "Epoch 92/100\n",
            "34/34 [==============================] - 3s 92ms/step - loss: 0.3559 - binary_accuracy: 0.8260 - val_loss: 0.4346 - val_binary_accuracy: 0.8209\n",
            "Epoch 93/100\n",
            "34/34 [==============================] - 3s 93ms/step - loss: 0.3246 - binary_accuracy: 0.8530 - val_loss: 0.4323 - val_binary_accuracy: 0.8060\n",
            "Epoch 94/100\n",
            "34/34 [==============================] - 3s 92ms/step - loss: 0.3443 - binary_accuracy: 0.8391 - val_loss: 0.3704 - val_binary_accuracy: 0.8507\n",
            "Epoch 95/100\n",
            "34/34 [==============================] - 3s 93ms/step - loss: 0.3633 - binary_accuracy: 0.8353 - val_loss: 0.3999 - val_binary_accuracy: 0.8172\n",
            "Epoch 96/100\n",
            "34/34 [==============================] - 3s 93ms/step - loss: 0.3263 - binary_accuracy: 0.8735 - val_loss: 0.4002 - val_binary_accuracy: 0.8172\n",
            "Epoch 97/100\n",
            "34/34 [==============================] - 3s 92ms/step - loss: 0.3198 - binary_accuracy: 0.8633 - val_loss: 0.4913 - val_binary_accuracy: 0.7910\n",
            "Epoch 98/100\n",
            "34/34 [==============================] - 3s 92ms/step - loss: 0.3396 - binary_accuracy: 0.8567 - val_loss: 0.5142 - val_binary_accuracy: 0.7724\n",
            "Epoch 99/100\n",
            "34/34 [==============================] - 3s 93ms/step - loss: 0.3142 - binary_accuracy: 0.8651 - val_loss: 0.4822 - val_binary_accuracy: 0.7724\n",
            "Epoch 100/100\n",
            "34/34 [==============================] - 3s 92ms/step - loss: 0.3185 - binary_accuracy: 0.8642 - val_loss: 0.4448 - val_binary_accuracy: 0.8097\n"
          ],
          "name": "stdout"
        },
        {
          "output_type": "execute_result",
          "data": {
            "text/plain": [
              "<tensorflow.python.keras.callbacks.History at 0x7f3d5d43f390>"
            ]
          },
          "metadata": {
            "tags": []
          },
          "execution_count": 36
        }
      ]
    },
    {
      "cell_type": "code",
      "metadata": {
        "id": "WbXk_1Bcx_uU",
        "colab_type": "code",
        "colab": {
          "base_uri": "https://localhost:8080/",
          "height": 34
        },
        "outputId": "b017db54-1a1d-48d2-89e7-6faa61e204bc"
      },
      "source": [
        "labels_helmet = (train_data.class_indices)\n",
        "labels_helmet = dict((v,k) for k,v in labels_helmet.items())\n",
        "labels_helmet"
      ],
      "execution_count": 37,
      "outputs": [
        {
          "output_type": "execute_result",
          "data": {
            "text/plain": [
              "{0: 'no', 1: 'yes'}"
            ]
          },
          "metadata": {
            "tags": []
          },
          "execution_count": 37
        }
      ]
    },
    {
      "cell_type": "code",
      "metadata": {
        "id": "R8Mdshs100WZ",
        "colab_type": "code",
        "colab": {}
      },
      "source": [
        "model_helmet.save_weights(\"model_helmet.h5\")"
      ],
      "execution_count": 0,
      "outputs": []
    },
    {
      "cell_type": "code",
      "metadata": {
        "id": "XXljzFY-06yA",
        "colab_type": "code",
        "colab": {}
      },
      "source": [
        "model_helmet_json = model_helmet.to_json()\n",
        "with open(\"model_helmet.json\", \"w\") as json_file:\n",
        "    json_file.write(model_helmet_json)"
      ],
      "execution_count": 0,
      "outputs": []
    }
  ]
}